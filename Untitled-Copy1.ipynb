{
 "cells": [
  {
   "cell_type": "code",
   "execution_count": 1,
   "metadata": {},
   "outputs": [],
   "source": [
    "import torch\n",
    "import torch.nn as nn"
   ]
  },
  {
   "cell_type": "code",
   "execution_count": 2,
   "metadata": {},
   "outputs": [],
   "source": [
    "a = nn.Conv2d(3,1,5,bias=False)"
   ]
  },
  {
   "cell_type": "code",
   "execution_count": 3,
   "metadata": {},
   "outputs": [],
   "source": [
    "weight=a.weight.data.numpy()"
   ]
  },
  {
   "cell_type": "code",
   "execution_count": 4,
   "metadata": {},
   "outputs": [
    {
     "data": {
      "text/plain": [
       "(1, 3, 5, 5)"
      ]
     },
     "execution_count": 4,
     "metadata": {},
     "output_type": "execute_result"
    }
   ],
   "source": [
    "weight.shape"
   ]
  },
  {
   "cell_type": "code",
   "execution_count": 5,
   "metadata": {},
   "outputs": [],
   "source": [
    "import numpy as np"
   ]
  },
  {
   "cell_type": "code",
   "execution_count": 8,
   "metadata": {},
   "outputs": [],
   "source": [
    "img = np.random.randn(1,3,10,10)\n",
    "#print(img)"
   ]
  },
  {
   "cell_type": "code",
   "execution_count": 9,
   "metadata": {},
   "outputs": [],
   "source": [
    "img_t = torch.Tensor(img)"
   ]
  },
  {
   "cell_type": "code",
   "execution_count": 10,
   "metadata": {},
   "outputs": [],
   "source": [
    "out1=a(img_t)"
   ]
  },
  {
   "cell_type": "code",
   "execution_count": 11,
   "metadata": {},
   "outputs": [
    {
     "data": {
      "text/plain": [
       "torch.Size([1, 1, 6, 6])"
      ]
     },
     "execution_count": 11,
     "metadata": {},
     "output_type": "execute_result"
    }
   ],
   "source": [
    "out1.shape"
   ]
  },
  {
   "cell_type": "code",
   "execution_count": 12,
   "metadata": {},
   "outputs": [
    {
     "name": "stdout",
     "output_type": "stream",
     "text": [
      "tensor([[[[ 0.0615,  0.2239, -1.0533,  0.7220,  0.6888, -0.5028],\n",
      "          [ 0.1340, -0.6337, -1.1586,  0.5466, -0.4965,  0.6158],\n",
      "          [-0.6785, -0.6299, -0.8123, -1.0028,  0.4741,  0.2530],\n",
      "          [ 0.2943, -1.1039, -0.4552,  0.1728, -1.0357, -0.0812],\n",
      "          [ 0.5927,  0.1888,  0.2554,  0.0932, -1.0551,  0.9880],\n",
      "          [-0.0141, -1.1356, -0.7415,  0.0014, -0.1572, -0.7630]]]])\n"
     ]
    }
   ],
   "source": [
    "print(out1.data)"
   ]
  },
  {
   "cell_type": "code",
   "execution_count": 13,
   "metadata": {},
   "outputs": [],
   "source": [
    "from components import *"
   ]
  },
  {
   "cell_type": "code",
   "execution_count": 14,
   "metadata": {},
   "outputs": [],
   "source": [
    "conv = conv_layer(1,3,5,5,relu=False,shift=False,same=False)"
   ]
  },
  {
   "cell_type": "code",
   "execution_count": 15,
   "metadata": {},
   "outputs": [],
   "source": [
    "conv.kernel = weight.copy()"
   ]
  },
  {
   "cell_type": "code",
   "execution_count": 16,
   "metadata": {},
   "outputs": [
    {
     "data": {
      "text/plain": [
       "array([[[[ 0.06151741,  0.22387396, -1.0533243 ,  0.72197932,\n",
       "           0.68884527, -0.50280776],\n",
       "         [ 0.13398613, -0.63368458, -1.15855492,  0.54658531,\n",
       "          -0.49646966,  0.61576466],\n",
       "         [-0.67852072, -0.62985148, -0.81234213, -1.00282367,\n",
       "           0.47408675,  0.25296139],\n",
       "         [ 0.29429778, -1.10390486, -0.4552171 ,  0.17277448,\n",
       "          -1.03567807, -0.08118922],\n",
       "         [ 0.5927259 ,  0.18877876,  0.25543694,  0.09316596,\n",
       "          -1.05509107,  0.98803639],\n",
       "         [-0.01410995, -1.13562122, -0.74148318,  0.00139129,\n",
       "          -0.15715837, -0.76297803]]]])"
      ]
     },
     "execution_count": 16,
     "metadata": {},
     "output_type": "execute_result"
    }
   ],
   "source": [
    "conv.forward(img)"
   ]
  }
 ],
 "metadata": {
  "kernelspec": {
   "display_name": "Python [conda env:pytorch4]",
   "language": "python",
   "name": "conda-env-pytorch4-py"
  },
  "language_info": {
   "codemirror_mode": {
    "name": "ipython",
    "version": 3
   },
   "file_extension": ".py",
   "mimetype": "text/x-python",
   "name": "python",
   "nbconvert_exporter": "python",
   "pygments_lexer": "ipython3",
   "version": "3.6.5"
  }
 },
 "nbformat": 4,
 "nbformat_minor": 2
}
