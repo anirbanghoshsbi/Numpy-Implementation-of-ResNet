{
 "cells": [
  {
   "cell_type": "code",
   "execution_count": 16,
   "metadata": {},
   "outputs": [],
   "source": [
    "import numpy as np\n",
    "import time\n",
    "from components import *\n",
    "import cv2\n",
    "import matplotlib.pyplot as plt"
   ]
  },
  {
   "cell_type": "code",
   "execution_count": 2,
   "metadata": {},
   "outputs": [
    {
     "name": "stdout",
     "output_type": "stream",
     "text": [
      "[[[[ 0.11830464  0.40650356  0.03220765]\n",
      "   [-0.1715755   0.39498573  0.23793936]\n",
      "   [ 0.37163681 -0.0561493   0.26317587]]\n",
      "\n",
      "  [[-0.34170263 -0.32253853 -0.15727297]\n",
      "   [-0.40638561  0.08693463 -0.415915  ]\n",
      "   [-0.17264649  0.15606314  0.26886644]]\n",
      "\n",
      "  [[-0.29099699 -0.384044    0.20360359]\n",
      "   [-0.39426302  0.10635393 -0.2337848 ]\n",
      "   [ 0.2567603   0.17595595 -0.3217688 ]]]\n",
      "\n",
      "\n",
      " [[[-0.29923934  0.0476542  -0.2365167 ]\n",
      "   [-0.40017921 -0.38940161  0.37215154]\n",
      "   [-0.12751861 -0.07406861  0.36362612]]\n",
      "\n",
      "  [[ 0.3438752  -0.3366836  -0.17532575]\n",
      "   [ 0.08020189 -0.11216619  0.23631032]\n",
      "   [-0.15226612  0.33589271 -0.04047065]]\n",
      "\n",
      "  [[ 0.38838748 -0.09187772 -0.27983788]\n",
      "   [ 0.04297795 -0.39000778  0.07181641]\n",
      "   [ 0.0701867   0.38615421 -0.21537453]]]\n",
      "\n",
      "\n",
      " [[[ 0.00439897 -0.38982754  0.35867225]\n",
      "   [ 0.0965981  -0.16366936 -0.38446492]\n",
      "   [-0.0226338  -0.41261243  0.10871936]]\n",
      "\n",
      "  [[-0.09918252  0.26519071  0.30863844]\n",
      "   [ 0.16933666 -0.09440527 -0.42599212]\n",
      "   [ 0.30301977  0.21912039 -0.10807011]]\n",
      "\n",
      "  [[-0.42534783 -0.23170297 -0.27921068]\n",
      "   [-0.03730049  0.06124509  0.26430459]\n",
      "   [ 0.26394124 -0.0242695  -0.40230158]]]]\n"
     ]
    }
   ],
   "source": [
    "conv = conv_layer(3,3,3,3,relu=False)\n",
    "kernel=conv.kernel.copy()\n",
    "print(conv.kernel)"
   ]
  },
  {
   "cell_type": "code",
   "execution_count": 3,
   "metadata": {},
   "outputs": [
    {
     "name": "stdout",
     "output_type": "stream",
     "text": [
      "[[[[1. 1. 1. 1.]\n",
      "   [1. 1. 1. 1.]\n",
      "   [1. 1. 1. 1.]\n",
      "   [1. 1. 1. 1.]]\n",
      "\n",
      "  [[1. 1. 1. 1.]\n",
      "   [1. 1. 1. 1.]\n",
      "   [1. 1. 1. 1.]\n",
      "   [1. 1. 1. 1.]]\n",
      "\n",
      "  [[1. 1. 1. 1.]\n",
      "   [1. 1. 1. 1.]\n",
      "   [1. 1. 1. 1.]\n",
      "   [1. 1. 1. 1.]]]]\n"
     ]
    }
   ],
   "source": [
    "in_tensor = np.ones([1,3,4,4])\n",
    "print(in_tensor)"
   ]
  },
  {
   "cell_type": "code",
   "execution_count": 4,
   "metadata": {},
   "outputs": [
    {
     "name": "stdout",
     "output_type": "stream",
     "text": [
      "[[[[ 0.66265715  0.14618365  0.14618365  0.34767057]\n",
      "   [ 0.44111646 -0.58975204 -0.58975204 -0.46680338]\n",
      "   [ 0.44111646 -0.58975204 -0.58975204 -0.46680338]\n",
      "   [-0.04502684 -1.53164595 -1.53164595 -1.19842379]]\n",
      "\n",
      "  [[ 0.54446194  0.05786456  0.05786456 -0.73019466]\n",
      "   [-0.5281255  -0.58169954 -0.58169954 -0.67807843]\n",
      "   [-0.5281255  -0.58169954 -0.58169954 -0.67807843]\n",
      "   [-1.28388475 -1.12786076 -1.12786076 -1.11645871]]\n",
      "\n",
      "  [[-1.36239585 -0.58943436 -0.58943436  0.35837041]\n",
      "   [-1.33063563 -1.07780554 -1.07780554 -0.51810078]\n",
      "   [-1.33063563 -1.07780554 -1.07780554 -0.51810078]\n",
      "   [-0.71122178 -1.0027189  -1.0027189  -0.84466646]]]]\n"
     ]
    }
   ],
   "source": [
    "out=conv.forward(in_tensor)\n",
    "print(out)"
   ]
  },
  {
   "cell_type": "code",
   "execution_count": 6,
   "metadata": {},
   "outputs": [
    {
     "name": "stdout",
     "output_type": "stream",
     "text": [
      "0.6626571541692575\n"
     ]
    }
   ],
   "source": [
    "sum=0\n",
    "for j in range(3):\n",
    "    for k in range(2):\n",
    "        for l in range(2):\n",
    "            sum += kernel[0,j,1+k,1+l]*in_tensor[0,j,1+k,1+l]\n",
    "print(sum)"
   ]
  },
  {
   "cell_type": "code",
   "execution_count": 7,
   "metadata": {},
   "outputs": [
    {
     "name": "stdout",
     "output_type": "stream",
     "text": [
      "[[[[ -8.88169536 -11.59349644  -8.96779235]\n",
      "   [-12.1715755  -15.60501427 -11.76206064]\n",
      "   [ -8.62836319 -12.0561493   -8.73682413]]\n",
      "\n",
      "  [[ -9.34170263 -12.32253853  -9.15727297]\n",
      "   [-12.40638561 -15.91306537 -12.415915  ]\n",
      "   [ -9.17264649 -11.84393686  -8.73113356]]\n",
      "\n",
      "  [[ -9.29099699 -12.384044    -8.79639641]\n",
      "   [-12.39426302 -15.89364607 -12.2337848 ]\n",
      "   [ -8.7432397  -11.82404405  -9.3217688 ]]]\n",
      "\n",
      "\n",
      " [[[ -9.29923934 -11.9523458   -9.2365167 ]\n",
      "   [-12.40017921 -16.38940161 -11.62784846]\n",
      "   [ -9.12751861 -12.07406861  -8.63637388]]\n",
      "\n",
      "  [[ -8.6561248  -12.3366836   -9.17532575]\n",
      "   [-11.91979811 -16.11216619 -11.76368968]\n",
      "   [ -9.15226612 -11.66410729  -9.04047065]]\n",
      "\n",
      "  [[ -8.61161252 -12.09187772  -9.27983788]\n",
      "   [-11.95702205 -16.39000778 -11.92818359]\n",
      "   [ -8.9298133  -11.61384579  -9.21537453]]]\n",
      "\n",
      "\n",
      " [[[ -8.99560103 -12.38982754  -8.64132775]\n",
      "   [-11.9034019  -16.16366936 -12.38446492]\n",
      "   [ -9.0226338  -12.41261243  -8.89128064]]\n",
      "\n",
      "  [[ -9.09918252 -11.73480929  -8.69136156]\n",
      "   [-11.83066334 -16.09440527 -12.42599212]\n",
      "   [ -8.69698023 -11.78087961  -9.10807011]]\n",
      "\n",
      "  [[ -9.42534783 -12.23170297  -9.27921068]\n",
      "   [-12.03730049 -15.93875491 -11.73569541]\n",
      "   [ -8.73605876 -12.0242695   -9.40230158]]]]\n"
     ]
    }
   ],
   "source": [
    "out_diff=np.ones([1,3,4,4])\n",
    "conv.backward(out_diff,1)\n",
    "print(conv.kernel)"
   ]
  },
  {
   "cell_type": "code",
   "execution_count": 8,
   "metadata": {},
   "outputs": [
    {
     "data": {
      "text/plain": [
       "array([[[[ -9., -12.,  -9.],\n",
       "         [-12., -16., -12.],\n",
       "         [ -9., -12.,  -9.]],\n",
       "\n",
       "        [[ -9., -12.,  -9.],\n",
       "         [-12., -16., -12.],\n",
       "         [ -9., -12.,  -9.]],\n",
       "\n",
       "        [[ -9., -12.,  -9.],\n",
       "         [-12., -16., -12.],\n",
       "         [ -9., -12.,  -9.]]],\n",
       "\n",
       "\n",
       "       [[[ -9., -12.,  -9.],\n",
       "         [-12., -16., -12.],\n",
       "         [ -9., -12.,  -9.]],\n",
       "\n",
       "        [[ -9., -12.,  -9.],\n",
       "         [-12., -16., -12.],\n",
       "         [ -9., -12.,  -9.]],\n",
       "\n",
       "        [[ -9., -12.,  -9.],\n",
       "         [-12., -16., -12.],\n",
       "         [ -9., -12.,  -9.]]],\n",
       "\n",
       "\n",
       "       [[[ -9., -12.,  -9.],\n",
       "         [-12., -16., -12.],\n",
       "         [ -9., -12.,  -9.]],\n",
       "\n",
       "        [[ -9., -12.,  -9.],\n",
       "         [-12., -16., -12.],\n",
       "         [ -9., -12.,  -9.]],\n",
       "\n",
       "        [[ -9., -12.,  -9.],\n",
       "         [-12., -16., -12.],\n",
       "         [ -9., -12.,  -9.]]]])"
      ]
     },
     "execution_count": 8,
     "metadata": {},
     "output_type": "execute_result"
    }
   ],
   "source": [
    "conv.kernel-kernel"
   ]
  },
  {
   "cell_type": "code",
   "execution_count": 9,
   "metadata": {},
   "outputs": [
    {
     "data": {
      "text/plain": [
       "array([[[[-0.74544737, -0.36545819, -0.36545819,  0.28623416],\n",
       "         [-1.06679332,  0.04871723,  0.04871723,  0.47892517],\n",
       "         [-1.06679332,  0.04871723,  0.04871723,  0.47892517],\n",
       "         [-0.9545878 ,  0.00655954,  0.00655954,  0.26023175]],\n",
       "\n",
       "        [[-0.76752524, -1.39708231, -1.39708231, -1.14322531],\n",
       "         [-0.07834184, -0.58757323, -0.58757323, -0.31182339],\n",
       "         [-0.07834184, -0.58757323, -0.58757323, -0.31182339],\n",
       "         [ 0.41269953, -0.07257159, -0.07257159,  0.1061683 ]],\n",
       "\n",
       "        [[-1.64657634, -1.89968511, -1.89968511, -1.18314221],\n",
       "         [-0.51784744, -1.71040112, -1.71040112, -1.58474646],\n",
       "         [-0.51784744, -1.71040112, -1.71040112, -1.58474646],\n",
       "         [ 0.51773459, -0.31937412, -0.31937412, -0.52167679]]]])"
      ]
     },
     "execution_count": 9,
     "metadata": {},
     "output_type": "execute_result"
    }
   ],
   "source": [
    "conv.in_diff_tensor"
   ]
  },
  {
   "cell_type": "code",
   "execution_count": 11,
   "metadata": {},
   "outputs": [
    {
     "name": "stdout",
     "output_type": "stream",
     "text": [
      "-0.7454473744267447\n"
     ]
    }
   ],
   "source": [
    "s = 0\n",
    "for i in range(3):\n",
    "    for j in range(2):\n",
    "        for l in range(2):\n",
    "            s += kernel[i,0,j,l]\n",
    "print(s)"
   ]
  },
  {
   "cell_type": "code",
   "execution_count": 43,
   "metadata": {},
   "outputs": [],
   "source": [
    "filt=conv_layer(1,1,21,21,relu=False)"
   ]
  },
  {
   "cell_type": "code",
   "execution_count": 44,
   "metadata": {},
   "outputs": [],
   "source": [
    "image = cv2.imread(\"1.png\")"
   ]
  },
  {
   "cell_type": "code",
   "execution_count": 45,
   "metadata": {},
   "outputs": [
    {
     "name": "stdout",
     "output_type": "stream",
     "text": [
      "(768, 1366, 3)\n"
     ]
    },
    {
     "data": {
      "image/png": "[encoded data removed]",
      "text/plain": [
       "<Figure size 432x288 with 1 Axes>"
      ]
     },
     "metadata": {
      "needs_background": "light"
     },
     "output_type": "display_data"
    }
   ],
   "source": [
    "plt.imshow(image)\n",
    "print(image.shape)"
   ]
  },
  {
   "cell_type": "code",
   "execution_count": 46,
   "metadata": {},
   "outputs": [],
   "source": [
    "img = image.transpose(2,0,1).reshape(-1,3,768,1366)\n",
    "img1=img[0,0,:,:].reshape(1,1,768,1366)\n",
    "img2=img[0,1,:,:].reshape(1,1,768,1366)\n",
    "img3=img[0,2,:,:].reshape(1,1,768,1366)"
   ]
  },
  {
   "cell_type": "code",
   "execution_count": 47,
   "metadata": {},
   "outputs": [],
   "source": [
    "filt.kernel = np.ones([1,1,21,21])/441"
   ]
  },
  {
   "cell_type": "code",
   "execution_count": 48,
   "metadata": {},
   "outputs": [],
   "source": [
    "img1 = filt.forward(img1)\n",
    "img2 = filt.forward(img2)\n",
    "img3 = filt.forward(img3)"
   ]
  },
  {
   "cell_type": "code",
   "execution_count": 49,
   "metadata": {},
   "outputs": [
    {
     "data": {
      "text/plain": [
       "(1, 1, 768, 1366)"
      ]
     },
     "execution_count": 49,
     "metadata": {},
     "output_type": "execute_result"
    }
   ],
   "source": [
    "img1.shape"
   ]
  },
  {
   "cell_type": "code",
   "execution_count": 50,
   "metadata": {},
   "outputs": [
    {
     "data": {
      "text/plain": [
       "<matplotlib.image.AxesImage at 0x2621b151fd0>"
      ]
     },
     "execution_count": 50,
     "metadata": {},
     "output_type": "execute_result"
    },
    {
     "data": {
      "image/png": "[encoded data removed]",
      "text/plain": [
       "<Figure size 432x288 with 1 Axes>"
      ]
     },
     "metadata": {
      "needs_background": "light"
     },
     "output_type": "display_data"
    }
   ],
   "source": [
    "img[0,0,:,:]=img1.reshape(768,1366)\n",
    "img[0,1,:,:]=img2.reshape(768,1366)\n",
    "img[0,2,:,:]=img3.reshape(768,1366)\n",
    "plt.imshow(img.reshape(3,768,1366).transpose(1,2,0).astype(np.int32))"
   ]
  }
 ],
 "metadata": {
  "kernelspec": {
   "display_name": "Python 3",
   "language": "python",
   "name": "python3"
  },
  "language_info": {
   "codemirror_mode": {
    "name": "ipython",
    "version": 3
   },
   "file_extension": ".py",
   "mimetype": "text/x-python",
   "name": "python",
   "nbconvert_exporter": "python",
   "pygments_lexer": "ipython3",
   "version": "3.7.0"
  }
 },
 "nbformat": 4,
 "nbformat_minor": 2
}
