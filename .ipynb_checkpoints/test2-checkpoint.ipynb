{
 "cells": [
  {
   "cell_type": "code",
   "execution_count": 1,
   "metadata": {},
   "outputs": [],
   "source": [
    "from train import *\n",
    "import matplotlib.pyplot as plt\n",
    "from IPython import display"
   ]
  },
  {
   "cell_type": "code",
   "execution_count": 2,
   "metadata": {},
   "outputs": [],
   "source": [
    "dataset = dataloader(\"train.txt\", 10, 64, 64)"
   ]
  },
  {
   "cell_type": "code",
   "execution_count": null,
   "metadata": {},
   "outputs": [
    {
     "name": "stdout",
     "output_type": "stream",
     "text": [
      "(10, 8192)\n",
      "(4096, 8192)\n",
      "(10, 4096)\n",
      "(4096, 4096)\n"
     ]
    },
    {
     "data": {
      "image/png": "[encoded data removed]",
      "text/plain": [
       "<Figure size 720x360 with 2 Axes>"
      ]
     },
     "metadata": {
      "needs_background": "light"
     },
     "output_type": "display_data"
    }
   ],
   "source": [
    "model1 = vgg(20,64,64)\n",
    "trainer1 = trainer(model1, dataset, 0.001)\n",
    "loss = []\n",
    "accurate = []\n",
    "temp = 0\n",
    "for i in range(50000):\n",
    "    display.clear_output(wait = True)\n",
    "    temp += trainer1.iterate()\n",
    "    if i % 10 == 0 and i != 0:\n",
    "        loss.append(temp / 10)\n",
    "        temp = 0\n",
    "        if i % 100 == 0:\n",
    "            accurate.append(test(trainer1.net, \"test.txt\", 64, 64))\n",
    "    plt.figure(figsize=(10,5))       \n",
    "    plt.subplot(1,2,1)\n",
    "    plt.plot(loss)\n",
    "    plt.subplot(1,2,2)\n",
    "    plt.plot(accurate)\n",
    "    plt.show()"
   ]
  },
  {
   "cell_type": "code",
   "execution_count": 4,
   "metadata": {},
   "outputs": [
    {
     "data": {
      "text/plain": [
       "0.116"
      ]
     },
     "execution_count": 4,
     "metadata": {},
     "output_type": "execute_result"
    }
   ],
   "source": [
    "test(trainer1.net, \"test.txt\", 64, 64)"
   ]
  }
 ],
 "metadata": {
  "kernelspec": {
   "display_name": "Python 3",
   "language": "python",
   "name": "python3"
  },
  "language_info": {
   "codemirror_mode": {
    "name": "ipython",
    "version": 3
   },
   "file_extension": ".py",
   "mimetype": "text/x-python",
   "name": "python",
   "nbconvert_exporter": "python",
   "pygments_lexer": "ipython3",
   "version": "3.7.0"
  }
 },
 "nbformat": 4,
 "nbformat_minor": 2
}
